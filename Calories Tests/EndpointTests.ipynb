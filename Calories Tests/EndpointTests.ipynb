{
 "cells": [
  {
   "cell_type": "code",
   "execution_count": 1,
   "metadata": {},
   "outputs": [
    {
     "name": "stdout",
     "output_type": "stream",
     "text": [
      "Test Passed\n"
     ]
    }
   ],
   "source": [
    "import requests\n",
    "# TC.B.5\n",
    "# URL of the API endpoint\n",
    "url = \"http://localhost:3001/calories/deleteDiaryEntry\"\n",
    "food_id = 57\n",
    "# Data to be sent in the request body\n",
    "data = {\n",
    "    \"id\": food_id\n",
    "}\n",
    "\n",
    "# Sending POST request\n",
    "response = requests.post(url, json=data)\n",
    "\n",
    "# Checking the response\n",
    "assert response.status_code == 200, f\"Request failed. Status code: {response.status_code}\"\n",
    "print(\"Test Passed\")\n"
   ]
  },
  {
   "cell_type": "code",
   "execution_count": 2,
   "metadata": {},
   "outputs": [
    {
     "name": "stdout",
     "output_type": "stream",
     "text": [
      "Test Passed\n"
     ]
    }
   ],
   "source": [
    "import requests\n",
    "#TC.B.1\n",
    "# URL of the API endpoint\n",
    "url = \"http://localhost:3001/calories/setGoal\"\n",
    "user_id = 1\n",
    "# Data to be sent in the request body\n",
    "data = {\n",
    "    \"start_weight\": 90,\n",
    "    \"current_weight\": 85,\n",
    "    \"goal_weight\": 80,\n",
    "    \"weekly_goal\": \"lose05\",\n",
    "    \"activity_level\": \"notActive\",\n",
    "    \"calories_goal\": \"2500\",\n",
    "    \"protein_goal\": \"190\",\n",
    "    \"carbs_goal\": \"240\",\n",
    "    \"fats_goal\": \"90\"\n",
    "}\n",
    "\n",
    "# Sending POST request\n",
    "response = requests.post(url, json=data)\n",
    "\n",
    "# Checking the response\n",
    "assert response.status_code == 200, f\"Request failed. Status code: {response.status_code}\"\n",
    "print(\"Test Passed\")\n"
   ]
  },
  {
   "cell_type": "code",
   "execution_count": 19,
   "metadata": {},
   "outputs": [
    {
     "name": "stdout",
     "output_type": "stream",
     "text": [
      "Test Passed\n"
     ]
    }
   ],
   "source": [
    "import requests\n",
    "#TC.B.2\n",
    "# URL of the API endpoint\n",
    "url = \"http://localhost:3001/calories/getGoals\"\n",
    "user_id = 1\n",
    "# Data to be sent in the request body\n",
    "\n",
    "# Sending POST request\n",
    "response = requests.get(url)\n",
    "\n",
    "# Checking the response\n",
    "assert response.status_code == 200, f\"Request failed. Status code: {response.status_code}\"\n",
    "print(\"Test Passed\")\n"
   ]
  },
  {
   "cell_type": "code",
   "execution_count": 23,
   "metadata": {},
   "outputs": [
    {
     "name": "stdout",
     "output_type": "stream",
     "text": [
      "200\n",
      "Test Passed\n"
     ]
    }
   ],
   "source": [
    "import requests\n",
    "import datetime\n",
    "\n",
    "#TC.B.3\n",
    "# URL of the API endpoint\n",
    "url = \"http://localhost:3001/calories/updateDiary\"\n",
    "current_datetime = datetime.datetime.now()\n",
    "\n",
    "user_id = 1\n",
    "# Data to be sent in the request body\n",
    "data = {\n",
    "    \"date\": current_datetime,\n",
    "    \"meal\": \"breakfast\",\n",
    "    \"food_name\": \"chicken\",\n",
    "    \"food_calories\": 500,\n",
    "    \"food_serving\": 2,\n",
    "    \"food_carbs\": 0.5,\n",
    "    \"food_protein\": 80,\n",
    "    \"food_fat\": 60\n",
    "}\n",
    "# Sending POST request\n",
    "response = requests.post(url)\n",
    "# Checking the response\n",
    "assert response.status_code == 200, f\"Request failed. Status code: {response.status_code}\"\n",
    "print(\"Test Passed\")"
   ]
  },
  {
   "cell_type": "code",
   "execution_count": 24,
   "metadata": {},
   "outputs": [
    {
     "name": "stdout",
     "output_type": "stream",
     "text": [
      "Test Passed\n"
     ]
    }
   ],
   "source": [
    "import requests\n",
    "#TC.B.2\n",
    "# URL of the API endpoint\n",
    "url = \"http://localhost:3001/calories/getDiary\"\n",
    "user_id = 1\n",
    "# Data to be sent in the request body\n",
    "\n",
    "# Sending POST request\n",
    "response = requests.get(url)\n",
    "\n",
    "# Checking the response\n",
    "assert response.status_code == 200, f\"Request failed. Status code: {response.status_code}\"\n",
    "print(\"Test Passed\")\n"
   ]
  },
  {
   "cell_type": "code",
   "execution_count": null,
   "metadata": {},
   "outputs": [],
   "source": []
  }
 ],
 "metadata": {
  "kernelspec": {
   "display_name": "Python 3",
   "language": "python",
   "name": "python3"
  },
  "language_info": {
   "codemirror_mode": {
    "name": "ipython",
    "version": 3
   },
   "file_extension": ".py",
   "mimetype": "text/x-python",
   "name": "python",
   "nbconvert_exporter": "python",
   "pygments_lexer": "ipython3",
   "version": "3.11.2"
  }
 },
 "nbformat": 4,
 "nbformat_minor": 2
}
